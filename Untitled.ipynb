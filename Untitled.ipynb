{
 "cells": [
  {
   "cell_type": "code",
   "execution_count": 65,
   "id": "following-baltimore",
   "metadata": {},
   "outputs": [],
   "source": [
    "import numpy as np\n",
    "import pandas as pd\n",
    "import matplotlib.pyplot as plt\n",
    "from bson import ObjectId\n",
    "%config Completer.use_jedi = False\n",
    "\n",
    "def generateProducerTrace(data,**kwargs):\n",
    "    TOTAL_PRODUCERS  = kwargs.get(\"num_producers\",10)\n",
    "    TRACE_SIZE       = data.shape[0]\n",
    "    USER_IDS         = np.array(list( map ( lambda x:str(ObjectId()) ,range(TOTAL_PRODUCERS))))\n",
    "    users_operations = np.random.randint(low=0,high=TOTAL_PRODUCERS,size=TRACE_SIZE)\n",
    "    user_ids         = np.take(USER_IDS,users_operations)\n",
    "    column_names     = data.columns\n",
    "    data.reindex(columns=column_names)\n",
    "    data = data.assign(USER_ID = user_ids)\n",
    "    return data\n",
    "#     return user_ids"
   ]
  },
  {
   "cell_type": "code",
   "execution_count": 12,
   "id": "outer-project",
   "metadata": {},
   "outputs": [],
   "source": [
    "df = pd.read_csv(\"test.csv\",header=None,sep=\" \")\n",
    "df.rename(columns={0:\"INTER_ARRIVAL\",2:\"TYPE\"},inplace=True)\n",
    "df = df[[\"INTER_ARRIVAL\",\"TYPE\"]]"
   ]
  },
  {
   "cell_type": "code",
   "execution_count": 99,
   "id": "reflected-destiny",
   "metadata": {},
   "outputs": [
    {
     "data": {
      "text/html": [
       "<div>\n",
       "<style scoped>\n",
       "    .dataframe tbody tr th:only-of-type {\n",
       "        vertical-align: middle;\n",
       "    }\n",
       "\n",
       "    .dataframe tbody tr th {\n",
       "        vertical-align: top;\n",
       "    }\n",
       "\n",
       "    .dataframe thead th {\n",
       "        text-align: right;\n",
       "    }\n",
       "</style>\n",
       "<table border=\"1\" class=\"dataframe\">\n",
       "  <thead>\n",
       "    <tr style=\"text-align: right;\">\n",
       "      <th></th>\n",
       "      <th>INTER_ARRIVAL</th>\n",
       "      <th>TYPE</th>\n",
       "      <th>USER_ID</th>\n",
       "    </tr>\n",
       "  </thead>\n",
       "  <tbody>\n",
       "    <tr>\n",
       "      <th>1</th>\n",
       "      <td>3493</td>\n",
       "      <td>w</td>\n",
       "      <td>608359b741037e49df2916f7</td>\n",
       "    </tr>\n",
       "    <tr>\n",
       "      <th>2</th>\n",
       "      <td>6320</td>\n",
       "      <td>w</td>\n",
       "      <td>608359b741037e49df2916f6</td>\n",
       "    </tr>\n",
       "    <tr>\n",
       "      <th>3</th>\n",
       "      <td>8067</td>\n",
       "      <td>w</td>\n",
       "      <td>608359b741037e49df2916f5</td>\n",
       "    </tr>\n",
       "    <tr>\n",
       "      <th>4</th>\n",
       "      <td>9909</td>\n",
       "      <td>w</td>\n",
       "      <td>608359b741037e49df2916f7</td>\n",
       "    </tr>\n",
       "    <tr>\n",
       "      <th>6</th>\n",
       "      <td>13356</td>\n",
       "      <td>w</td>\n",
       "      <td>608359b741037e49df2916f5</td>\n",
       "    </tr>\n",
       "  </tbody>\n",
       "</table>\n",
       "</div>"
      ],
      "text/plain": [
       "   INTER_ARRIVAL TYPE                   USER_ID\n",
       "1           3493    w  608359b741037e49df2916f7\n",
       "2           6320    w  608359b741037e49df2916f6\n",
       "3           8067    w  608359b741037e49df2916f5\n",
       "4           9909    w  608359b741037e49df2916f7\n",
       "6          13356    w  608359b741037e49df2916f5"
      ]
     },
     "execution_count": 99,
     "metadata": {},
     "output_type": "execute_result"
    }
   ],
   "source": [
    "producers       = df[df[\"TYPE\"]==\"w\"]\n",
    "total_producers = producers.shape[0]\n",
    "generateProducerTrace(producers,num_producers=3).head()"
   ]
  },
  {
   "cell_type": "code",
   "execution_count": 185,
   "id": "boxed-small",
   "metadata": {},
   "outputs": [
    {
     "data": {
      "text/plain": [
       "2.5785222597707342"
      ]
     },
     "execution_count": 185,
     "metadata": {},
     "output_type": "execute_result"
    }
   ],
   "source": [
    "np.random.normal(3,1)"
   ]
  },
  {
   "cell_type": "code",
   "execution_count": null,
   "id": "generous-tomorrow",
   "metadata": {},
   "outputs": [],
   "source": []
  },
  {
   "cell_type": "code",
   "execution_count": null,
   "id": "artificial-copyright",
   "metadata": {},
   "outputs": [],
   "source": []
  }
 ],
 "metadata": {
  "kernelspec": {
   "display_name": "Python 3",
   "language": "python",
   "name": "python3"
  },
  "language_info": {
   "codemirror_mode": {
    "name": "ipython",
    "version": 3
   },
   "file_extension": ".py",
   "mimetype": "text/x-python",
   "name": "python",
   "nbconvert_exporter": "python",
   "pygments_lexer": "ipython3",
   "version": "3.6.9"
  }
 },
 "nbformat": 4,
 "nbformat_minor": 5
}
